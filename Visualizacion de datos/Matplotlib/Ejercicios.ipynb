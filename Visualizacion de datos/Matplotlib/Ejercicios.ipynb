{
 "cells": [
  {
   "cell_type": "code",
   "execution_count": 10,
   "metadata": {},
   "outputs": [],
   "source": [
    "import pandas as pd \n",
    "import numpy as np\n",
    "\n",
    "import matplotlib.pyplot as plt\n",
    "import matplotlib.patches as mpatches\n",
    "\n",
    "from pathlib import Path\n",
    "\n",
    "pd.set_option('display.max_columns', 150)\n",
    "data_path = Path('data')   \n",
    "\n",
    "%matplotlib inline"
   ]
  },
  {
   "cell_type": "code",
   "execution_count": 5,
   "metadata": {},
   "outputs": [
    {
     "name": "stdout",
     "output_type": "stream",
     "text": [
      "(11357, 22)\n"
     ]
    },
    {
     "data": {
      "text/html": [
       "<div>\n",
       "<style scoped>\n",
       "    .dataframe tbody tr th:only-of-type {\n",
       "        vertical-align: middle;\n",
       "    }\n",
       "\n",
       "    .dataframe tbody tr th {\n",
       "        vertical-align: top;\n",
       "    }\n",
       "\n",
       "    .dataframe thead th {\n",
       "        text-align: right;\n",
       "    }\n",
       "</style>\n",
       "<table border=\"1\" class=\"dataframe\">\n",
       "  <thead>\n",
       "    <tr style=\"text-align: right;\">\n",
       "      <th></th>\n",
       "      <th>ID</th>\n",
       "      <th>CaseNumber</th>\n",
       "      <th>Date</th>\n",
       "      <th>Block</th>\n",
       "      <th>IUCR</th>\n",
       "      <th>PrimaryType</th>\n",
       "      <th>Description</th>\n",
       "      <th>Location Description</th>\n",
       "      <th>Arrest</th>\n",
       "      <th>Domestic</th>\n",
       "      <th>Beat</th>\n",
       "      <th>District</th>\n",
       "      <th>Ward</th>\n",
       "      <th>CommunityArea</th>\n",
       "      <th>FBICode</th>\n",
       "      <th>X Coordinate</th>\n",
       "      <th>Y Coordinate</th>\n",
       "      <th>Year</th>\n",
       "      <th>UpdatedOn</th>\n",
       "      <th>Latitude</th>\n",
       "      <th>Longitude</th>\n",
       "      <th>Location</th>\n",
       "    </tr>\n",
       "  </thead>\n",
       "  <tbody>\n",
       "    <tr>\n",
       "      <th>0</th>\n",
       "      <td>10801165</td>\n",
       "      <td>JA100077</td>\n",
       "      <td>01/01/2017 01:00:00 AM</td>\n",
       "      <td>0000X W DIVISION ST</td>\n",
       "      <td>0460</td>\n",
       "      <td>BATTERY</td>\n",
       "      <td>SIMPLE</td>\n",
       "      <td>BAR OR TAVERN</td>\n",
       "      <td>True</td>\n",
       "      <td>False</td>\n",
       "      <td>1824</td>\n",
       "      <td>18.0</td>\n",
       "      <td>42.0</td>\n",
       "      <td>8.0</td>\n",
       "      <td>08B</td>\n",
       "      <td>NaN</td>\n",
       "      <td>NaN</td>\n",
       "      <td>2017</td>\n",
       "      <td>01/08/2017 03:48:20 PM</td>\n",
       "      <td>NaN</td>\n",
       "      <td>NaN</td>\n",
       "      <td>NaN</td>\n",
       "    </tr>\n",
       "    <tr>\n",
       "      <th>1</th>\n",
       "      <td>10801166</td>\n",
       "      <td>JA100115</td>\n",
       "      <td>01/01/2017 01:23:00 AM</td>\n",
       "      <td>084XX S SANGAMON ST</td>\n",
       "      <td>0470</td>\n",
       "      <td>PUBLIC PEACE VIOLATION</td>\n",
       "      <td>RECKLESS CONDUCT</td>\n",
       "      <td>SIDEWALK</td>\n",
       "      <td>True</td>\n",
       "      <td>False</td>\n",
       "      <td>613</td>\n",
       "      <td>6.0</td>\n",
       "      <td>21.0</td>\n",
       "      <td>71.0</td>\n",
       "      <td>24</td>\n",
       "      <td>NaN</td>\n",
       "      <td>NaN</td>\n",
       "      <td>2017</td>\n",
       "      <td>01/08/2017 03:48:20 PM</td>\n",
       "      <td>NaN</td>\n",
       "      <td>NaN</td>\n",
       "      <td>NaN</td>\n",
       "    </tr>\n",
       "    <tr>\n",
       "      <th>2</th>\n",
       "      <td>10801090</td>\n",
       "      <td>JA100010</td>\n",
       "      <td>01/01/2017 12:01:00 AM</td>\n",
       "      <td>064XX S STONY ISLAND AVE</td>\n",
       "      <td>1310</td>\n",
       "      <td>CRIMINAL DAMAGE</td>\n",
       "      <td>TO PROPERTY</td>\n",
       "      <td>RESIDENCE</td>\n",
       "      <td>False</td>\n",
       "      <td>False</td>\n",
       "      <td>314</td>\n",
       "      <td>3.0</td>\n",
       "      <td>5.0</td>\n",
       "      <td>42.0</td>\n",
       "      <td>14</td>\n",
       "      <td>NaN</td>\n",
       "      <td>NaN</td>\n",
       "      <td>2017</td>\n",
       "      <td>01/08/2017 03:48:20 PM</td>\n",
       "      <td>NaN</td>\n",
       "      <td>NaN</td>\n",
       "      <td>NaN</td>\n",
       "    </tr>\n",
       "    <tr>\n",
       "      <th>3</th>\n",
       "      <td>10801101</td>\n",
       "      <td>JA100031</td>\n",
       "      <td>01/01/2017 12:00:00 AM</td>\n",
       "      <td>074XX S SOUTH CHICAGO AVE</td>\n",
       "      <td>1320</td>\n",
       "      <td>CRIMINAL DAMAGE</td>\n",
       "      <td>TO VEHICLE</td>\n",
       "      <td>STREET</td>\n",
       "      <td>False</td>\n",
       "      <td>False</td>\n",
       "      <td>324</td>\n",
       "      <td>3.0</td>\n",
       "      <td>5.0</td>\n",
       "      <td>69.0</td>\n",
       "      <td>14</td>\n",
       "      <td>NaN</td>\n",
       "      <td>NaN</td>\n",
       "      <td>2017</td>\n",
       "      <td>01/08/2017 03:48:20 PM</td>\n",
       "      <td>NaN</td>\n",
       "      <td>NaN</td>\n",
       "      <td>NaN</td>\n",
       "    </tr>\n",
       "    <tr>\n",
       "      <th>4</th>\n",
       "      <td>10801104</td>\n",
       "      <td>JA100015</td>\n",
       "      <td>01/01/2017 12:00:00 AM</td>\n",
       "      <td>004XX W 66TH ST</td>\n",
       "      <td>0486</td>\n",
       "      <td>BATTERY</td>\n",
       "      <td>DOMESTIC BATTERY SIMPLE</td>\n",
       "      <td>APARTMENT</td>\n",
       "      <td>True</td>\n",
       "      <td>True</td>\n",
       "      <td>722</td>\n",
       "      <td>7.0</td>\n",
       "      <td>20.0</td>\n",
       "      <td>68.0</td>\n",
       "      <td>08B</td>\n",
       "      <td>NaN</td>\n",
       "      <td>NaN</td>\n",
       "      <td>2017</td>\n",
       "      <td>01/08/2017 03:48:20 PM</td>\n",
       "      <td>NaN</td>\n",
       "      <td>NaN</td>\n",
       "      <td>NaN</td>\n",
       "    </tr>\n",
       "  </tbody>\n",
       "</table>\n",
       "</div>"
      ],
      "text/plain": [
       "         ID CaseNumber                    Date                      Block  \\\n",
       "0  10801165   JA100077  01/01/2017 01:00:00 AM        0000X W DIVISION ST   \n",
       "1  10801166   JA100115  01/01/2017 01:23:00 AM        084XX S SANGAMON ST   \n",
       "2  10801090   JA100010  01/01/2017 12:01:00 AM   064XX S STONY ISLAND AVE   \n",
       "3  10801101   JA100031  01/01/2017 12:00:00 AM  074XX S SOUTH CHICAGO AVE   \n",
       "4  10801104   JA100015  01/01/2017 12:00:00 AM            004XX W 66TH ST   \n",
       "\n",
       "   IUCR             PrimaryType              Description Location Description  \\\n",
       "0  0460                 BATTERY                   SIMPLE        BAR OR TAVERN   \n",
       "1  0470  PUBLIC PEACE VIOLATION         RECKLESS CONDUCT             SIDEWALK   \n",
       "2  1310         CRIMINAL DAMAGE              TO PROPERTY            RESIDENCE   \n",
       "3  1320         CRIMINAL DAMAGE               TO VEHICLE               STREET   \n",
       "4  0486                 BATTERY  DOMESTIC BATTERY SIMPLE            APARTMENT   \n",
       "\n",
       "   Arrest  Domestic  Beat  District  Ward  CommunityArea FBICode  \\\n",
       "0    True     False  1824      18.0  42.0            8.0     08B   \n",
       "1    True     False   613       6.0  21.0           71.0      24   \n",
       "2   False     False   314       3.0   5.0           42.0      14   \n",
       "3   False     False   324       3.0   5.0           69.0      14   \n",
       "4    True      True   722       7.0  20.0           68.0     08B   \n",
       "\n",
       "   X Coordinate  Y Coordinate  Year               UpdatedOn  Latitude  \\\n",
       "0           NaN           NaN  2017  01/08/2017 03:48:20 PM       NaN   \n",
       "1           NaN           NaN  2017  01/08/2017 03:48:20 PM       NaN   \n",
       "2           NaN           NaN  2017  01/08/2017 03:48:20 PM       NaN   \n",
       "3           NaN           NaN  2017  01/08/2017 03:48:20 PM       NaN   \n",
       "4           NaN           NaN  2017  01/08/2017 03:48:20 PM       NaN   \n",
       "\n",
       "   Longitude Location  \n",
       "0        NaN      NaN  \n",
       "1        NaN      NaN  \n",
       "2        NaN      NaN  \n",
       "3        NaN      NaN  \n",
       "4        NaN      NaN  "
      ]
     },
     "execution_count": 5,
     "metadata": {},
     "output_type": "execute_result"
    }
   ],
   "source": [
    "data = pd.read_csv(data_path / 'Chicago_Crimes_2017.csv')\n",
    "print(data.shape)\n",
    "data.head()"
   ]
  },
  {
   "cell_type": "code",
   "execution_count": 7,
   "metadata": {},
   "outputs": [
    {
     "data": {
      "text/plain": [
       "THEFT                                2493\n",
       "BATTERY                              1974\n",
       "CRIMINAL DAMAGE                      1305\n",
       "OTHER OFFENSE                         874\n",
       "ASSAULT                               774\n",
       "MOTOR VEHICLE THEFT                   712\n",
       "BURGLARY                              667\n",
       "DECEPTIVE PRACTICE                    652\n",
       "ROBBERY                               613\n",
       "NARCOTICS                             411\n",
       "CRIMINAL TRESPASS                     317\n",
       "WEAPONS VIOLATION                     177\n",
       "OFFENSE INVOLVING CHILDREN             96\n",
       "CRIM SEXUAL ASSAULT                    64\n",
       "PUBLIC PEACE VIOLATION                 54\n",
       "INTERFERENCE WITH PUBLIC OFFICER       47\n",
       "PROSTITUTION                           32\n",
       "HOMICIDE                               31\n",
       "SEX OFFENSE                            20\n",
       "ARSON                                  13\n",
       "STALKING                                7\n",
       "KIDNAPPING                              6\n",
       "INTIMIDATION                            6\n",
       "CONCEALED CARRY LICENSE VIOLATION       5\n",
       "LIQUOR LAW VIOLATION                    3\n",
       "NON-CRIMINAL                            3\n",
       "PUBLIC INDECENCY                        1\n",
       "Name: PrimaryType, dtype: int64"
      ]
     },
     "execution_count": 7,
     "metadata": {},
     "output_type": "execute_result"
    }
   ],
   "source": [
    "data['PrimaryType'].value_counts()"
   ]
  },
  {
   "cell_type": "markdown",
   "metadata": {},
   "source": [
    "### Ejercicio 1.\n",
    "\n",
    "Genera un gráfico de barras que contenga el nº de siniestros ocurrido en cada mes del año. El gráfico será tal que así:"
   ]
  },
  {
   "cell_type": "code",
   "execution_count": 8,
   "metadata": {},
   "outputs": [],
   "source": [
    "data['Date'] = pd.to_datetime(data['Date'], dayfirst=True)\n",
    "data['month'] = data['Date'].dt.month"
   ]
  },
  {
   "cell_type": "code",
   "execution_count": 9,
   "metadata": {},
   "outputs": [
    {
     "data": {
      "text/plain": [
       "Text(0, 0.5, 'Nº de siniestros.')"
      ]
     },
     "execution_count": 9,
     "metadata": {},
     "output_type": "execute_result"
    },
    {
     "data": {
      "image/png": "[encoded data removed]",
      "text/plain": [
       "<Figure size 720x576 with 1 Axes>"
      ]
     },
     "metadata": {
      "needs_background": "light"
     },
     "output_type": "display_data"
    }
   ],
   "source": [
    "crimes_by_month = data.groupby('month').size()\n",
    "\n",
    "fig, ax = plt.subplots(figsize=(10,8))\n",
    "ax.bar(x = crimes_by_month.index, height=crimes_by_month.values)\n",
    "\n",
    "ax.set_xticks(np.arange(1,13))\n",
    "ax.set_title(\"Nº de siniestros por mes.\")\n",
    "ax.set_xlabel('Mes.')\n",
    "ax.set_ylabel(\"Nº de siniestros.\")"
   ]
  },
  {
   "cell_type": "markdown",
   "metadata": {},
   "source": [
    "### Ejercicio 2.\n",
    "\n",
    "Añade al gráfico anterior, usando puntos, el nº de siniestros cuyo Primary Type = 'Battery'.\n",
    "- Representa esos puntos usando el eje derecho.\n",
    "- Muestra una leyenda con el significado de ambos."
   ]
  },
  {
   "cell_type": "code",
   "execution_count": 11,
   "metadata": {},
   "outputs": [
    {
     "data": {
      "text/plain": [
       "<matplotlib.legend.Legend at 0x1886c3a4070>"
      ]
     },
     "execution_count": 11,
     "metadata": {},
     "output_type": "execute_result"
    },
    {
     "data": {
      "image/png": "[encoded data removed]",
      "text/plain": [
       "<Figure size 720x576 with 2 Axes>"
      ]
     },
     "metadata": {
      "needs_background": "light"
     },
     "output_type": "display_data"
    }
   ],
   "source": [
    "crimes_by_month = data.groupby('month').size()\n",
    "crimes_battery = data[data['PrimaryType'] == 'BATTERY'].groupby('month').size()\n",
    "\n",
    "fig, ax = plt.subplots(figsize = (10,8))\n",
    "ax.bar(x=crimes_by_month.index, height= crimes_by_month.values, label= 'Nº de siniestros.')\n",
    "ax.set_xticks(np.arange(1,13))\n",
    "ax.set_title('Nº de siniestros por mes.')\n",
    "ax.set_ylabel('Nº de siniestros.')\n",
    "ax.set_xlabel('Mes.')\n",
    "\n",
    "ax1 = ax.twinx()\n",
    "ax1.scatter(x=crimes_battery.index, y=crimes_battery.values, c='red', label= 'Battery Crimes')\n",
    "\n",
    "bar = mpatches.Patch(color='blue', label = 'Nº de siniestros')\n",
    "point = mpatches.Patch(color='red', label = 'Battery crimes')\n",
    "plt.legend(handles=[bar,point], title='Leyenda')"
   ]
  },
  {
   "cell_type": "markdown",
   "metadata": {},
   "source": [
    "### Ejercicio 3.\n",
    "\n",
    "Filtra solo los siniestros cuyo Primary Type son \"THEFT\", \"BATTERY\", \"CRIMINAL DAMAGE\" o \"OTHER OFFENSE\". Luego, genera 2 gráficos en el mismo fig.\n",
    "\n",
    "- El primero, será un gráfico de tartas que muestre el % que representa cada tipo en el dataset.\n",
    "- El segundo, será un gráfico de puntos, representando el nº de siniestros de cada tipo en cada mes"
   ]
  },
  {
   "cell_type": "code",
   "execution_count": 12,
   "metadata": {},
   "outputs": [
    {
     "ename": "NameError",
     "evalue": "name 'df' is not defined",
     "output_type": "error",
     "traceback": [
      "\u001b[1;31m---------------------------------------------------------------------------\u001b[0m",
      "\u001b[1;31mNameError\u001b[0m                                 Traceback (most recent call last)",
      "\u001b[1;32m~\\AppData\\Local\\Temp/ipykernel_18516/2676762270.py\u001b[0m in \u001b[0;36m<module>\u001b[1;34m\u001b[0m\n\u001b[1;32m----> 1\u001b[1;33m \u001b[0mnum\u001b[0m \u001b[1;33m=\u001b[0m \u001b[0mdf\u001b[0m\u001b[1;33m.\u001b[0m\u001b[0mgroupby\u001b[0m\u001b[1;33m(\u001b[0m\u001b[1;33m[\u001b[0m\u001b[1;34m'PrimaryType'\u001b[0m\u001b[1;33m,\u001b[0m \u001b[1;34m'month'\u001b[0m\u001b[1;33m]\u001b[0m\u001b[1;33m)\u001b[0m\u001b[1;33m.\u001b[0m\u001b[0msize\u001b[0m\u001b[1;33m(\u001b[0m\u001b[1;33m)\u001b[0m\u001b[1;33m.\u001b[0m\u001b[0munstack\u001b[0m\u001b[1;33m(\u001b[0m\u001b[1;33m)\u001b[0m\u001b[1;33m.\u001b[0m\u001b[0mT\u001b[0m\u001b[1;33m\u001b[0m\u001b[1;33m\u001b[0m\u001b[0m\n\u001b[0m\u001b[0;32m      2\u001b[0m \u001b[0mnum\u001b[0m\u001b[1;33m\u001b[0m\u001b[1;33m\u001b[0m\u001b[0m\n",
      "\u001b[1;31mNameError\u001b[0m: name 'df' is not defined"
     ]
    }
   ],
   "source": [
    "num = df.groupby(['PrimaryType', 'month']).size().unstack().T\n",
    "num"
   ]
  },
  {
   "cell_type": "code",
   "execution_count": 15,
   "metadata": {},
   "outputs": [
    {
     "data": {
      "text/plain": [
       "<matplotlib.legend.Legend at 0x1886c8b7820>"
      ]
     },
     "execution_count": 15,
     "metadata": {},
     "output_type": "execute_result"
    },
    {
     "data": {
      "image/png": "[encoded data removed]",
      "text/plain": [
       "<Figure size 1440x720 with 2 Axes>"
      ]
     },
     "metadata": {
      "needs_background": "light"
     },
     "output_type": "display_data"
    }
   ],
   "source": [
    "fig, ax = plt.subplots(ncols=2, figsize=(20,10))\n",
    "df = data.query('PrimaryType in [\"THEFT\", \"BATTERY\", \"CRIMINAL DAMAGE\",\"OTHER OFFENSE\"]')\n",
    "vc = df.PrimaryType.value_counts(normalize=True).mul(100)\n",
    "num = df.groupby(['PrimaryType','month']).size().unstack().T\n",
    "\n",
    "ax[0].pie(vc, labels=vc.index, autopct='%1.1f%%')\n",
    "ax[1].scatter(x=num.index, y=num['THEFT'],c='blue', label='Theft')\n",
    "ax[1].scatter(x=num.index, y=num['BATTERY'], c='red', label='Battery')\n",
    "ax[1].scatter(x=num.index, y=num['CRIMINAL DAMAGE'], c='orange', label='Criminal damage')\n",
    "ax[1].scatter(x=num.index, y=num['OTHER OFFENSE'], c='green', label='Other offense')\n",
    "ax[1].legend()"
   ]
  }
 ],
 "metadata": {
  "kernelspec": {
   "display_name": "Python 3",
   "language": "python",
   "name": "python3"
  },
  "language_info": {
   "codemirror_mode": {
    "name": "ipython",
    "version": 3
   },
   "file_extension": ".py",
   "mimetype": "text/x-python",
   "name": "python",
   "nbconvert_exporter": "python",
   "pygments_lexer": "ipython3",
   "version": "3.9.7"
  }
 },
 "nbformat": 4,
 "nbformat_minor": 2
}
